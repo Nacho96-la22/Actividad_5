{
 "cells": [
  {
   "cell_type": "markdown",
   "id": "f33fbb12",
   "metadata": {},
   "source": [
    "# ENUNCIADO 03"
   ]
  },
  {
   "cell_type": "code",
   "execution_count": null,
   "id": "1580dbe8",
   "metadata": {},
   "outputs": [],
   "source": [
    "import csv, json\n",
    "from pathlib import Path\n",
    "from collections import Counter\n",
    "from datetime import datetime\n",
    "\n",
    "def enRango(dato, xx=3):\n",
    "    formato = \"%d/%m/%y, %H:%M:%S\"\n",
    "    h = datetime.strptime(dato, formato)\n",
    "    return h.date().month == xx\n",
    "\n",
    "#def miFiltro(csv_reader, xx=3):\n",
    "#    users= filter(lambda x: enRango(x['Hora'], xx), csv_reader)\n",
    "#    return Counter( map(lambda x: x['Nombre completo del usuario'], users)).most_common(2)\n",
    "\n",
    "# Modificado por (b)\n",
    "def miFiltro(csv_reader, xx=3, cant=2):\n",
    "    users= filter(lambda x: enRango(x['Hora'], xx), csv_reader)\n",
    "    return Counter( map(lambda x: x['Nombre completo del usuario'], users)).most_common(cant)"
   ]
  },
  {
   "cell_type": "code",
   "execution_count": null,
   "id": "03d110cb",
   "metadata": {},
   "outputs": [],
   "source": [
    "file1 = Path('archivos') / 'logs_catedra.csv'\n",
    "file2 = Path('archivos') / 'result.json'\n",
    "\n",
    "\n",
    "f1= open(file1,'r',encoding='utf-8') \n",
    "f2 = open(file2, 'w')\n",
    "\n",
    "csv_reader = csv.DictReader(f1, delimiter=',')\n",
    "x = miFiltro(csv_reader, 4, 10) # Añadi 10 cantidad por ejemplo y vemos\n",
    "json.dump(x,f2,indent=4)\n",
    "\n",
    "f1.close()\n",
    "f2.close()"
   ]
  },
  {
   "cell_type": "markdown",
   "id": "591896ff",
   "metadata": {},
   "source": [
    "**(a):** La funcion de miFiltro esta haciendo de buscar el valor \"4\" y no el \"3\" (es ignorante) para filtra los registros del mes de abril, ademas no pudo mostrar porque me sale el error \"UnicodeDecodeError\", tambien se creo el archivo de result pero aunque esta vacio y puede ser que esta fallando en los codigos. (Explica por video)\n",
    "\n",
    "**(b):** Modificado:\n",
    "\n",
    "**(c):** Si tienen los iteradores que son csv_reader, filter(), Counter() y map()"
   ]
  },
  {
   "cell_type": "markdown",
   "id": "39747058",
   "metadata": {},
   "source": [
    "**(d) y (e):** El **(d)** se hace conbimar con el **(e)** porque es recomendable que anterior los codigos."
   ]
  },
  {
   "cell_type": "code",
   "execution_count": 21,
   "id": "3a85b83f",
   "metadata": {},
   "outputs": [],
   "source": [
    "def enRango(dato, xx=3):\n",
    "    try:\n",
    "    \n",
    "        formato = \"%d/%m/%y, %H:%M:%S\"\n",
    "        h = datetime.strptime(dato, formato)\n",
    "        return h.date().month == xx\n",
    "    \n",
    "    except ValueError:\n",
    "        print(\"[ERROR] Formato incorrecto\")\n",
    "\n",
    "def miFiltro(csv_reader, xx=3):\n",
    "    try:\n",
    "\n",
    "        users= filter(lambda x: enRango(x['Hora'], xx), csv_reader)\n",
    "        return Counter( map(lambda x: x['Nombre completo del usuario'], users)).most_common(2)\n",
    "    \n",
    "    except Exception as e:\n",
    "        print(\"[ERROR] la fila hay fallo.\")\n",
    "\n",
    "try:\n",
    "    with open (file1, 'r', encoding='utf-8') as f1:\n",
    "        \n",
    "        with open (file2,'w') as f2: \n",
    "            \n",
    "            csv_reader = csv.DictReader(f1, delimiter=',')\n",
    "            x = miFiltro(csv_reader, 4)\n",
    "            json.dump(x,f2,indent=4)\n",
    "\n",
    "except FileNotFoundError:\n",
    "    print(\"[ERROR] El archivo no existe o no se puede abrir.\")\n",
    "except Exception as e:\n",
    "    print(f\"[ERROR] Inesperado: {e}\")"
   ]
  }
 ],
 "metadata": {
  "kernelspec": {
   "display_name": "Python 3",
   "language": "python",
   "name": "python3"
  },
  "language_info": {
   "codemirror_mode": {
    "name": "ipython",
    "version": 3
   },
   "file_extension": ".py",
   "mimetype": "text/x-python",
   "name": "python",
   "nbconvert_exporter": "python",
   "pygments_lexer": "ipython3",
   "version": "3.12.9"
  }
 },
 "nbformat": 4,
 "nbformat_minor": 5
}
